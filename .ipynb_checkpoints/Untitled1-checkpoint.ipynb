{
 "cells": [
  {
   "cell_type": "markdown",
   "metadata": {},
   "source": [
    "30점 받았는데 반례를 못찾겠음... 잘한거같은데 ㅡㅅㅡ"
   ]
  },
  {
   "cell_type": "code",
   "execution_count": 86,
   "metadata": {},
   "outputs": [
    {
     "name": "stdout",
     "output_type": "stream",
     "text": [
      "10 -4 3 1 5 6 -35 12 21 -1\n",
      "[-1, 1, 6, 9]\n"
     ]
    }
   ],
   "source": [
    "midx = [] #음수 인덱스\n",
    "data = [int(i) for i in input().split()]\n",
    "\n",
    "while(data[0] < 0) :#맨 앞이 -면 그냥 날려버림\n",
    "    del data[0]\n",
    "\n",
    "while(data[-1] < 0) :#맨 뒤가 -면 그냥 날려버림\n",
    "    del data[-1]\n",
    "    \n",
    "\n",
    "for i, j in enumerate(data) :\n",
    "    if(j < 0) : \n",
    "        midx.append(i)\n",
    "\n",
    "midx.insert(0, -1) \n",
    "midx.append(len(data))\n",
    "\n",
    "\n",
    "print(midx)"
   ]
  },
  {
   "cell_type": "code",
   "execution_count": 87,
   "metadata": {},
   "outputs": [
    {
     "name": "stdout",
     "output_type": "stream",
     "text": [
      "[[10], [3, 1, 5, 6], [12, 21]]\n"
     ]
    }
   ],
   "source": [
    "a = []\n",
    "for i in range(len(midx)-1) :\n",
    "    a.append(data[midx[i]+1 : midx[i+1]])\n",
    "print(a)"
   ]
  },
  {
   "cell_type": "code",
   "execution_count": 91,
   "metadata": {},
   "outputs": [
    {
     "name": "stdout",
     "output_type": "stream",
     "text": [
      "a\n",
      "3 0 21\n",
      "1\n",
      "2 1 21\n",
      "33\n"
     ]
    }
   ],
   "source": [
    "m = 0\n",
    "s = 0\n",
    "if(len(midx) == 2) :\n",
    "    print(sum(a[0]))\n",
    "for i in range(len(midx)-2) :\n",
    "    if (sum(a[i]) < abs(data[midx[i+1]])) : \n",
    "        print(i)\n",
    "        if(s == 0) :\n",
    "            s = sum(a[i])\n",
    "            if(m < s) :\n",
    "                m = s\n",
    "            s = 0\n",
    "            print(1,i, m)\n",
    "        else :\n",
    "            if(m < s) :\n",
    "                m = s\n",
    "            s = 0\n",
    "            print(2,i, m)\n",
    "    if (sum(a[i+1])<abs(data[midx[i+1]])) :\n",
    "        if(s == 0) :\n",
    "            s = sum(a[i+1])\n",
    "            if(m < s) :\n",
    "                m = s\n",
    "            s = 0\n",
    "        else :\n",
    "            if(s < sum(a[i+1])) :\n",
    "                if(m < sum(a[i+1])) :\n",
    "                    m = sum(a[i+1])\n",
    "            s = 0      \n",
    "    elif (sum(a[i]) > abs(data[midx[i+1]])) and (sum(a[i+1])>abs(data[midx[i+1]])) :\n",
    "        print(\"a\")\n",
    "        if(s == 0) :\n",
    "            s = sum(a[i]) + data[midx[i+1]] + sum(a[i+1])\n",
    "            if(m<s) :\n",
    "                m = s\n",
    "                print(3,i, m)\n",
    "        else :\n",
    "            s = s + sum(a[i+1]) + data[midx[i+1]]\n",
    "            if(m<s):\n",
    "                m = s\n",
    "                print(4,i, m)\n",
    "            \n",
    "print(m)\n",
    " \n",
    "    "
   ]
  },
  {
   "cell_type": "code",
   "execution_count": null,
   "metadata": {},
   "outputs": [],
   "source": []
  }
 ],
 "metadata": {
  "kernelspec": {
   "display_name": "Python 3",
   "language": "python",
   "name": "python3"
  },
  "language_info": {
   "codemirror_mode": {
    "name": "ipython",
    "version": 3
   },
   "file_extension": ".py",
   "mimetype": "text/x-python",
   "name": "python",
   "nbconvert_exporter": "python",
   "pygments_lexer": "ipython3",
   "version": "3.6.5"
  }
 },
 "nbformat": 4,
 "nbformat_minor": 2
}
