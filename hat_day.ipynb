{
 "cells": [
  {
   "cell_type": "markdown",
   "metadata": {},
   "source": [
    "# 알고리즘 다과회\n",
    "\n",
    "input : n 일 때, output : n번째의 거울 수 출력"
   ]
  },
  {
   "cell_type": "code",
   "execution_count": 7,
   "metadata": {},
   "outputs": [
    {
     "name": "stdout",
     "output_type": "stream",
     "text": [
      "10\n",
      "9\n"
     ]
    }
   ],
   "source": [
    "a = input() #그냥받으면 형 str\n",
    "if int(a) <= 10:\n",
    "    print(int(a)-1)\n",
    "elif (a[0] == '1') and (a[1] == '0'):#홀수인데 앞이 10\n",
    "    print('9' + a[2:] + a[-2:1:-1] + '9')\n",
    "elif a[0] == '1': #짝수\n",
    "    print(a[1:] + a[:0:-1])\n",
    "else :#홀수\n",
    "    print(str(int(a[0])-1) + a[1:] + a[-2:0:-1] +  str(int(a[0])-1))\n",
    "    "
   ]
  },
  {
   "cell_type": "code",
   "execution_count": 88,
   "metadata": {},
   "outputs": [
    {
     "name": "stdout",
     "output_type": "stream",
     "text": [
      "123\n"
     ]
    }
   ],
   "source": [
    "b = input()"
   ]
  },
  {
   "cell_type": "code",
   "execution_count": 90,
   "metadata": {},
   "outputs": [
    {
     "data": {
      "text/plain": [
       "'2'"
      ]
     },
     "execution_count": 90,
     "metadata": {},
     "output_type": "execute_result"
    }
   ],
   "source": [
    " b[-2:0:-1]"
   ]
  },
  {
   "cell_type": "code",
   "execution_count": null,
   "metadata": {},
   "outputs": [],
   "source": [
    "# list[시작 : 끝 : 몇칸씩 띄나 ]\n",
    "# list[띄는 칸을 -1로 하면, 시작과 끝을 그거에 맞게 뒤집어서 생각해야함]\n",
    "#str은 list처럼 사용이 가능한듯. 아마 함수만 좀 다르겠지\n",
    "#python은 && || 아니고 영어로쓴다."
   ]
  }
 ],
 "metadata": {
  "kernelspec": {
   "display_name": "Python 3",
   "language": "python",
   "name": "python3"
  },
  "language_info": {
   "codemirror_mode": {
    "name": "ipython",
    "version": 3
   },
   "file_extension": ".py",
   "mimetype": "text/x-python",
   "name": "python",
   "nbconvert_exporter": "python",
   "pygments_lexer": "ipython3",
   "version": "3.6.5"
  }
 },
 "nbformat": 4,
 "nbformat_minor": 2
}
